{
 "cells": [
  {
   "cell_type": "code",
   "execution_count": 1,
   "metadata": {},
   "outputs": [],
   "source": [
    "import os, random\n",
    "import pandas as pd\n",
    "from datetime import datetime\n",
    "\n",
    "from abc import ABC, abstractmethod"
   ]
  },
  {
   "cell_type": "code",
   "execution_count": 2,
   "metadata": {},
   "outputs": [],
   "source": [
    "class Util:\n",
    "    \n",
    "    def genId(id_list):\n",
    "        while(True):\n",
    "            new_id = random.randint(1, 9999)\n",
    "            if new_id not in id_list:\n",
    "                return new_id\n",
    "                "
   ]
  },
  {
   "cell_type": "code",
   "execution_count": 3,
   "metadata": {},
   "outputs": [],
   "source": [
    "class Pessoa(ABC):\n",
    "    \n",
    "    _list_ids = list()\n",
    "    \n",
    "    def __init__(self, nome_pessoa):\n",
    "        self.list_ids = Util.genId(self._list_ids)\n",
    "        self.id = self.list_ids[-1]\n",
    "        self.nome_pessoa = nome_pessoa\n",
    "        \n",
    "    \n",
    "    @property\n",
    "    def list_ids(self):\n",
    "        return self._list_ids\n",
    "    \n",
    "    \n",
    "    @list_ids.setter\n",
    "    def list_ids(self, new_client):\n",
    "        self._list_ids.append(new_client)\n",
    "        \n",
    "        \n",
    "    @abstractmethod\n",
    "    def __str__():\n",
    "        pass\n",
    "        \n",
    "\n",
    "class Cliente(Pessoa):\n",
    "    \n",
    "    def __init__(self, nome_cliente, valor_conta_cliente):\n",
    "        super().__init__(nome_cliente)\n",
    "        self.valor_conta_cliente = valor_conta_cliente\n",
    "        \n",
    "        \n",
    "    def __str__(self):\n",
    "        return f'Id: {self.id} - Nome: {self.nome_pessoa} - Valor em Conta: {self.valor_conta_cliente}'\n"
   ]
  },
  {
   "cell_type": "code",
   "execution_count": 4,
   "metadata": {},
   "outputs": [
    {
     "name": "stdout",
     "output_type": "stream",
     "text": [
      "Id: 4792 - Nome: Claus - Valor em Conta: 100.25\n",
      "Id: 8105 - Nome: Josue - Valor em Conta: 500.0\n"
     ]
    }
   ],
   "source": [
    "c1 = Cliente('Claus', 100.25)\n",
    "c2 = Cliente('Josue', 500.00)\n",
    "\n",
    "print(c1)\n",
    "print(c2)"
   ]
  },
  {
   "cell_type": "code",
   "execution_count": 5,
   "metadata": {},
   "outputs": [],
   "source": [
    "class Produto:\n",
    "    \n",
    "    __list_produtos = dict()\n",
    "    \n",
    "    def __init__(self, id_produto, estr_preco_produto, categ_produto, valor_produto):\n",
    "        self.id_produto = id_produto\n",
    "        self.estr_preco_produto = estr_preco_produto\n",
    "        self.categ_produto = categ_produto\n",
    "        self.valor_produto = valor_produto\n",
    "        self.__list_produtos[id_produto] = [estr_preco_produto, categ_produto, valor_produto]\n",
    "        \n",
    "    \n",
    "    @staticmethod\n",
    "    def produtos_registrados():\n",
    "        for id_produto, feats in sorted(Produto.__list_produtos.items()):\n",
    "            estr_preco_produto, categ_produto, valor_produto = feats\n",
    "            print(f'id Produto: {id_produto} - Valor: ${valor_produto} - Estrategia de Preco: {estr_preco_produto} - Categoria: {categ_produto} ')\n",
    "        \n",
    "        \n",
    "    def __str__(self):\n",
    "        return f'id: {self.id_produto} - Valor: ${self.valor_produto} - Estrategia de Preco: {self.estr_preco_produto} - Categoria: {self.categ_produto}'\n",
    "    "
   ]
  },
  {
   "cell_type": "code",
   "execution_count": 6,
   "metadata": {},
   "outputs": [
    {
     "name": "stdout",
     "output_type": "stream",
     "text": [
      "id Produto: 3 - Valor: $75.68 - Estrategia de Preco: 1 - Categoria: Netflix \n",
      "id Produto: 8 - Valor: $69.52 - Estrategia de Preco: 2 - Categoria: Netflix \n",
      "id Produto: 13 - Valor: $152.2 - Estrategia de Preco: 2 - Categoria: Ticket - Museu \n",
      "id Produto: 48 - Valor: $853.99 - Estrategia de Preco: 1 - Categoria: GloboPlay \n",
      "id Produto: 456 - Valor: $789.25 - Estrategia de Preco: 2 - Categoria: GloboPlay \n"
     ]
    }
   ],
   "source": [
    "pd1 = Produto(13, 2, 'Ticket - Museu', 152.2)\n",
    "pd2 = Produto(8, 2, 'Netflix', 69.52)\n",
    "pd3 = Produto(3, 1, 'Netflix', 75.68)\n",
    "pd4 = Produto(456, 2, 'GloboPlay', 789.25)\n",
    "pd5 = Produto(48, 1, 'GloboPlay', 853.99)\n",
    "\n",
    "Produto.produtos_registrados()"
   ]
  },
  {
   "cell_type": "code",
   "execution_count": 7,
   "metadata": {},
   "outputs": [],
   "source": [
    "class SistemaProvedorCanal:\n",
    "    \n",
    "    #Configuração Padrão\n",
    "    def __init__(self, prov=1, canal=1):\n",
    "        self.id_provedor = prov\n",
    "        self.id_canal = canal\n",
    "        \n",
    "    @property\n",
    "    def id_provedor(self):\n",
    "        return self._id_provedor\n",
    "    \n",
    "    \n",
    "    @id_provedor.setter\n",
    "    def id_provedor(self, id_provedor):\n",
    "        self._id_provedor = id_provedor\n",
    "    \n",
    "    \n",
    "    @property\n",
    "    def id_canal(self):\n",
    "        return self._id_canal\n",
    "    \n",
    "    \n",
    "    @id_canal.setter\n",
    "    def id_canal(self, id_canal):\n",
    "        self._id_canal = id_canal\n",
    "        \n",
    "        \n",
    "    def __str__(self):\n",
    "        return f'Provedor: {self.id_provedor} - canal: {self.id_canal}'\n",
    "        "
   ]
  },
  {
   "cell_type": "code",
   "execution_count": 8,
   "metadata": {},
   "outputs": [
    {
     "name": "stdout",
     "output_type": "stream",
     "text": [
      "Provedor: 2 - canal: 3\n"
     ]
    }
   ],
   "source": [
    "hora_transacao = datetime.now().strftime(\"%Y/%m/%dT%H:%M:%SZ\")\n",
    "\n",
    "sistema_pc = SistemaProvedorCanal(2, 3)\n",
    "print(sistema_pc)"
   ]
  },
  {
   "cell_type": "code",
   "execution_count": 9,
   "metadata": {},
   "outputs": [
    {
     "data": {
      "text/plain": [
       "'2021/04/19T11:28:59Z'"
      ]
     },
     "execution_count": 9,
     "metadata": {},
     "output_type": "execute_result"
    }
   ],
   "source": [
    "hora_transacao"
   ]
  },
  {
   "cell_type": "code",
   "execution_count": 10,
   "metadata": {},
   "outputs": [],
   "source": [
    "class Transacao:\n",
    "    \n",
    "    _id_list = list()\n",
    "    \n",
    "    def __init__(self, cliente, produto, sistema_pc, data_hora_transacao):\n",
    "        self.cliente = cliente\n",
    "        self.produto = produto\n",
    "        self.__sistema_pc = sistema_pc\n",
    "        self.id_list = Util.genId(Transacao._id_list)\n",
    "        self.id_transacao = self.id_list[-1]\n",
    "        self.data_hora_transacao = hora_transacao\n",
    "        \n",
    "    \n",
    "    @property\n",
    "    def id_list(self):\n",
    "        return self._id_list\n",
    "    \n",
    "    \n",
    "    @id_list.setter\n",
    "    def id_list(self, novo_cliente):\n",
    "        self._id_list.append(novo_cliente)\n",
    "        \n",
    "        \n",
    "    def __str__(self):\n",
    "        return f'Cliente:\\n{self.cliente}\\n\\nProduto:\\n{self.produto}\\n\\nHardware:\\n{self.__sistema_pc}\\n \\\n",
    "        \\n-----------------------------------\\n'\n",
    "\n",
    "    \n",
    "    def getData(self):\n",
    "        return [self.id_transacao, \n",
    "                self.cliente.id,\n",
    "                self.__sistema_pc.id_provedor,\n",
    "                self.produto.id_produto,\n",
    "                self.produto.categ_produto,\n",
    "                self.__sistema_pc.id_canal,\n",
    "                self.cliente.valor_conta_cliente,\n",
    "                self.produto.valor_produto,\n",
    "                self.data_hora_transacao,\n",
    "                self.produto.estr_preco_produto,\n",
    "                0\n",
    "               ]"
   ]
  },
  {
   "cell_type": "code",
   "execution_count": 11,
   "metadata": {},
   "outputs": [
    {
     "name": "stdout",
     "output_type": "stream",
     "text": [
      "Cliente:\n",
      "Id: 4792 - Nome: Claus - Valor em Conta: 100.25\n",
      "\n",
      "Produto:\n",
      "id: 8 - Valor: $69.52 - Estrategia de Preco: 2 - Categoria: Netflix\n",
      "\n",
      "Hardware:\n",
      "Provedor: 2 - canal: 3\n",
      "         \n",
      "-----------------------------------\n",
      "\n",
      "Cliente:\n",
      "Id: 8105 - Nome: Josue - Valor em Conta: 500.0\n",
      "\n",
      "Produto:\n",
      "id: 3 - Valor: $75.68 - Estrategia de Preco: 1 - Categoria: Netflix\n",
      "\n",
      "Hardware:\n",
      "Provedor: 2 - canal: 3\n",
      "         \n",
      "-----------------------------------\n",
      "\n",
      "Cliente:\n",
      "Id: 4792 - Nome: Claus - Valor em Conta: 100.25\n",
      "\n",
      "Produto:\n",
      "id: 13 - Valor: $152.2 - Estrategia de Preco: 2 - Categoria: Ticket - Museu\n",
      "\n",
      "Hardware:\n",
      "Provedor: 2 - canal: 3\n",
      "         \n",
      "-----------------------------------\n",
      "\n"
     ]
    }
   ],
   "source": [
    "transacao_1 = Transacao(c1, pd2, sistema_pc, hora_transacao)\n",
    "print(transacao_1)\n",
    "\n",
    "transacao_2 = Transacao(c2, pd3, sistema_pc, hora_transacao)\n",
    "print(transacao_2)\n",
    "\n",
    "transacao_3 = Transacao(c1, pd1, sistema_pc, hora_transacao)\n",
    "print(transacao_3)"
   ]
  },
  {
   "cell_type": "code",
   "execution_count": 12,
   "metadata": {},
   "outputs": [],
   "source": [
    "df_columns= ['Transacao',\n",
    "             'Usuario',\n",
    "             'Provedor',\n",
    "             'Produto',\n",
    "             'Categoria do Produto',\n",
    "             'Canal',\n",
    "             'Valor Conta Cliente',\n",
    "             'Valor do Servico',\n",
    "             'Data/Hora',\n",
    "             'Estrategia Preco Produto',\n",
    "             'Fraude']\n",
    "\n",
    "pacote_transacoes = list()\n",
    "pacote_transacoes.append(transacao_1.getData())\n",
    "pacote_transacoes.append(transacao_2.getData())\n",
    "pacote_transacoes.append(transacao_3.getData())"
   ]
  },
  {
   "cell_type": "code",
   "execution_count": 13,
   "metadata": {},
   "outputs": [],
   "source": [
    "df = pd.DataFrame(pacote_transacoes, columns = df_columns) "
   ]
  },
  {
   "cell_type": "code",
   "execution_count": 14,
   "metadata": {},
   "outputs": [
    {
     "data": {
      "text/html": [
       "<div>\n",
       "<style scoped>\n",
       "    .dataframe tbody tr th:only-of-type {\n",
       "        vertical-align: middle;\n",
       "    }\n",
       "\n",
       "    .dataframe tbody tr th {\n",
       "        vertical-align: top;\n",
       "    }\n",
       "\n",
       "    .dataframe thead th {\n",
       "        text-align: right;\n",
       "    }\n",
       "</style>\n",
       "<table border=\"1\" class=\"dataframe\">\n",
       "  <thead>\n",
       "    <tr style=\"text-align: right;\">\n",
       "      <th></th>\n",
       "      <th>Transacao</th>\n",
       "      <th>Usuario</th>\n",
       "      <th>Provedor</th>\n",
       "      <th>Produto</th>\n",
       "      <th>Categoria do Produto</th>\n",
       "      <th>Canal</th>\n",
       "      <th>Valor Conta Cliente</th>\n",
       "      <th>Valor do Servico</th>\n",
       "      <th>Data/Hora</th>\n",
       "      <th>Estrategia Preco Produto</th>\n",
       "      <th>Fraude</th>\n",
       "    </tr>\n",
       "  </thead>\n",
       "  <tbody>\n",
       "    <tr>\n",
       "      <th>0</th>\n",
       "      <td>2970</td>\n",
       "      <td>4792</td>\n",
       "      <td>2</td>\n",
       "      <td>8</td>\n",
       "      <td>Netflix</td>\n",
       "      <td>3</td>\n",
       "      <td>100.25</td>\n",
       "      <td>69.52</td>\n",
       "      <td>2021/04/19T11:28:59Z</td>\n",
       "      <td>2</td>\n",
       "      <td>0</td>\n",
       "    </tr>\n",
       "    <tr>\n",
       "      <th>1</th>\n",
       "      <td>8996</td>\n",
       "      <td>8105</td>\n",
       "      <td>2</td>\n",
       "      <td>3</td>\n",
       "      <td>Netflix</td>\n",
       "      <td>3</td>\n",
       "      <td>500.00</td>\n",
       "      <td>75.68</td>\n",
       "      <td>2021/04/19T11:28:59Z</td>\n",
       "      <td>1</td>\n",
       "      <td>0</td>\n",
       "    </tr>\n",
       "    <tr>\n",
       "      <th>2</th>\n",
       "      <td>5478</td>\n",
       "      <td>4792</td>\n",
       "      <td>2</td>\n",
       "      <td>13</td>\n",
       "      <td>Ticket - Museu</td>\n",
       "      <td>3</td>\n",
       "      <td>100.25</td>\n",
       "      <td>152.20</td>\n",
       "      <td>2021/04/19T11:28:59Z</td>\n",
       "      <td>2</td>\n",
       "      <td>0</td>\n",
       "    </tr>\n",
       "  </tbody>\n",
       "</table>\n",
       "</div>"
      ],
      "text/plain": [
       "   Transacao  Usuario  Provedor  Produto Categoria do Produto  Canal  \\\n",
       "0       2970     4792         2        8              Netflix      3   \n",
       "1       8996     8105         2        3              Netflix      3   \n",
       "2       5478     4792         2       13       Ticket - Museu      3   \n",
       "\n",
       "   Valor Conta Cliente  Valor do Servico             Data/Hora  \\\n",
       "0               100.25             69.52  2021/04/19T11:28:59Z   \n",
       "1               500.00             75.68  2021/04/19T11:28:59Z   \n",
       "2               100.25            152.20  2021/04/19T11:28:59Z   \n",
       "\n",
       "   Estrategia Preco Produto  Fraude  \n",
       "0                         2       0  \n",
       "1                         1       0  \n",
       "2                         2       0  "
      ]
     },
     "execution_count": 14,
     "metadata": {},
     "output_type": "execute_result"
    }
   ],
   "source": [
    "df"
   ]
  },
  {
   "cell_type": "code",
   "execution_count": null,
   "metadata": {},
   "outputs": [],
   "source": []
  }
 ],
 "metadata": {
  "kernelspec": {
   "display_name": "Python 3",
   "language": "python",
   "name": "python3"
  },
  "language_info": {
   "codemirror_mode": {
    "name": "ipython",
    "version": 3
   },
   "file_extension": ".py",
   "mimetype": "text/x-python",
   "name": "python",
   "nbconvert_exporter": "python",
   "pygments_lexer": "ipython3",
   "version": "3.8.5"
  }
 },
 "nbformat": 4,
 "nbformat_minor": 4
}
